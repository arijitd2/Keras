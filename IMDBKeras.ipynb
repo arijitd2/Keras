{
 "cells": [
  {
   "cell_type": "code",
   "execution_count": null,
   "metadata": {},
   "outputs": [],
   "source": [
    "from keras.datasets import imdb"
   ]
  },
  {
   "cell_type": "code",
   "execution_count": null,
   "metadata": {},
   "outputs": [],
   "source": [
    "import numpy as np"
   ]
  },
  {
   "cell_type": "code",
   "execution_count": null,
   "metadata": {},
   "outputs": [],
   "source": [
    "(train_data, train_labels), (test_data, test_labels) = imdb.load_data(num_words = 10000)"
   ]
  },
  {
   "cell_type": "code",
   "execution_count": null,
   "metadata": {},
   "outputs": [],
   "source": [
    "# save np.load\n",
    "np_load_old = np.load\n",
    "\n",
    "# modify the default parameters of np.load\n",
    "np.load = lambda *a,**k: np_load_old(*a, allow_pickle=True, **k)\n",
    "\n",
    "# call load_data with allow_pickle implicitly set to true\n",
    "(train_data, train_labels), (test_data, test_labels) = imdb.load_data(num_words=10000)\n",
    "\n",
    "# restore np.load for future normal usage\n",
    "np.load = np_load_old"
   ]
  },
  {
   "cell_type": "code",
   "execution_count": 11,
   "metadata": {},
   "outputs": [
    {
     "data": {
      "text/plain": [
       "25000"
      ]
     },
     "execution_count": 11,
     "metadata": {},
     "output_type": "execute_result"
    }
   ],
   "source": [
    "len(train_data)"
   ]
  },
  {
   "cell_type": "code",
   "execution_count": 14,
   "metadata": {},
   "outputs": [],
   "source": [
    "def vectorize_sequences(sequences, dimension = 10000):\n",
    "    results = np.zeros((len(sequences), dimension))\n",
    "    for i, sequence in enumerate(sequences):\n",
    "        results[i, sequence] = 1.\n",
    "    return results"
   ]
  },
  {
   "cell_type": "code",
   "execution_count": 45,
   "metadata": {},
   "outputs": [],
   "source": [
    "x_train = vectorize_sequences(train_data)\n",
    "x_test = vectorize_sequences(test_data)"
   ]
  },
  {
   "cell_type": "code",
   "execution_count": 17,
   "metadata": {},
   "outputs": [
    {
     "data": {
      "text/plain": [
       "array([0., 1., 1., ..., 0., 0., 0.])"
      ]
     },
     "execution_count": 17,
     "metadata": {},
     "output_type": "execute_result"
    }
   ],
   "source": [
    "x_train[2]"
   ]
  },
  {
   "cell_type": "code",
   "execution_count": 18,
   "metadata": {},
   "outputs": [],
   "source": [
    "y_train = np.asarray(train_labels).astype('float32')"
   ]
  },
  {
   "cell_type": "code",
   "execution_count": 19,
   "metadata": {},
   "outputs": [],
   "source": [
    "y_test = np.asarray(test_labels).astype('float32')"
   ]
  },
  {
   "cell_type": "code",
   "execution_count": 20,
   "metadata": {},
   "outputs": [
    {
     "name": "stdout",
     "output_type": "stream",
     "text": [
      "WARNING:tensorflow:From C:\\ProgramData\\Anaconda3\\lib\\site-packages\\tensorflow\\python\\framework\\op_def_library.py:263: colocate_with (from tensorflow.python.framework.ops) is deprecated and will be removed in a future version.\n",
      "Instructions for updating:\n",
      "Colocations handled automatically by placer.\n"
     ]
    }
   ],
   "source": [
    "from keras import models\n",
    "from keras import layers\n",
    "model = models.Sequential()\n",
    "model.add(layers.Dense(16, activation='relu', input_shape=(10000,)))\n",
    "model.add(layers.Dense(16, activation='relu'))\n",
    "model.add(layers.Dense(1, activation='sigmoid'))"
   ]
  },
  {
   "cell_type": "code",
   "execution_count": 21,
   "metadata": {},
   "outputs": [],
   "source": [
    "model.compile(optimizer='rmsprop',\n",
    "loss='binary_crossentropy',\n",
    "metrics=['accuracy'])"
   ]
  },
  {
   "cell_type": "code",
   "execution_count": 22,
   "metadata": {},
   "outputs": [],
   "source": [
    "x_val = x_train[:10000]\n",
    "partial_x_train = x_train[10000:]"
   ]
  },
  {
   "cell_type": "code",
   "execution_count": 23,
   "metadata": {},
   "outputs": [],
   "source": [
    "y_val = y_train[:10000]\n",
    "partial_y_train = y_train[10000:]"
   ]
  },
  {
   "cell_type": "code",
   "execution_count": 24,
   "metadata": {},
   "outputs": [],
   "source": [
    "model.compile(optimizer='rmsprop',\n",
    "loss='binary_crossentropy',\n",
    "metrics=['acc'])"
   ]
  },
  {
   "cell_type": "code",
   "execution_count": 25,
   "metadata": {},
   "outputs": [
    {
     "name": "stdout",
     "output_type": "stream",
     "text": [
      "WARNING:tensorflow:From C:\\ProgramData\\Anaconda3\\lib\\site-packages\\tensorflow\\python\\ops\\math_ops.py:3066: to_int32 (from tensorflow.python.ops.math_ops) is deprecated and will be removed in a future version.\n",
      "Instructions for updating:\n",
      "Use tf.cast instead.\n",
      "Train on 15000 samples, validate on 10000 samples\n",
      "Epoch 1/20\n",
      "15000/15000 [==============================] - 24s 2ms/step - loss: 0.6938 - acc: 0.5038 - val_loss: 0.6936 - val_acc: 0.4977\n",
      "Epoch 2/20\n",
      "15000/15000 [==============================] - 7s 448us/step - loss: 0.6763 - acc: 0.5905 - val_loss: 0.7002 - val_acc: 0.5024\n",
      "Epoch 3/20\n",
      "15000/15000 [==============================] - 6s 386us/step - loss: 0.6293 - acc: 0.6659 - val_loss: 0.7111 - val_acc: 0.5091\n",
      "Epoch 4/20\n",
      "15000/15000 [==============================] - 5s 349us/step - loss: 0.5797 - acc: 0.7211 - val_loss: 0.7375 - val_acc: 0.5080\n",
      "Epoch 5/20\n",
      "15000/15000 [==============================] - 6s 383us/step - loss: 0.5395 - acc: 0.7443 - val_loss: 0.7588 - val_acc: 0.5082\n",
      "Epoch 6/20\n",
      "15000/15000 [==============================] - 5s 362us/step - loss: 0.4949 - acc: 0.7787 - val_loss: 0.8077 - val_acc: 0.5055\n",
      "Epoch 7/20\n",
      "15000/15000 [==============================] - 5s 358us/step - loss: 0.4517 - acc: 0.8079 - val_loss: 0.8207 - val_acc: 0.5063\n",
      "Epoch 8/20\n",
      "15000/15000 [==============================] - 5s 363us/step - loss: 0.4132 - acc: 0.8309 - val_loss: 0.8758 - val_acc: 0.5083\n",
      "Epoch 9/20\n",
      "15000/15000 [==============================] - 6s 375us/step - loss: 0.3755 - acc: 0.8519 - val_loss: 0.9548 - val_acc: 0.5061\n",
      "Epoch 10/20\n",
      "15000/15000 [==============================] - 5s 347us/step - loss: 0.3423 - acc: 0.8701 - val_loss: 0.9588 - val_acc: 0.5065\n",
      "Epoch 11/20\n",
      "15000/15000 [==============================] - 5s 359us/step - loss: 0.3076 - acc: 0.8878 - val_loss: 1.0174 - val_acc: 0.5074\n",
      "Epoch 12/20\n",
      "15000/15000 [==============================] - 5s 333us/step - loss: 0.2722 - acc: 0.9073 - val_loss: 1.0854 - val_acc: 0.5082\n",
      "Epoch 13/20\n",
      "15000/15000 [==============================] - 6s 373us/step - loss: 0.2378 - acc: 0.9238 - val_loss: 1.1520 - val_acc: 0.5058\n",
      "Epoch 14/20\n",
      "15000/15000 [==============================] - 5s 349us/step - loss: 0.2146 - acc: 0.9344 - val_loss: 1.2369 - val_acc: 0.5077\n",
      "Epoch 15/20\n",
      "15000/15000 [==============================] - 5s 332us/step - loss: 0.1863 - acc: 0.9446 - val_loss: 1.2744 - val_acc: 0.5058\n",
      "Epoch 16/20\n",
      "15000/15000 [==============================] - 6s 377us/step - loss: 0.1643 - acc: 0.9558 - val_loss: 1.3445 - val_acc: 0.5058\n",
      "Epoch 17/20\n",
      "15000/15000 [==============================] - 6s 368us/step - loss: 0.1439 - acc: 0.9620 - val_loss: 1.4311 - val_acc: 0.5084\n",
      "Epoch 18/20\n",
      "15000/15000 [==============================] - 5s 365us/step - loss: 0.1186 - acc: 0.9715 - val_loss: 1.5005 - val_acc: 0.5068\n",
      "Epoch 19/20\n",
      "15000/15000 [==============================] - 5s 356us/step - loss: 0.1093 - acc: 0.9739 - val_loss: 1.6969 - val_acc: 0.5041\n",
      "Epoch 20/20\n",
      "15000/15000 [==============================] - 6s 380us/step - loss: 0.1007 - acc: 0.9756 - val_loss: 1.6785 - val_acc: 0.5088\n"
     ]
    }
   ],
   "source": [
    "history = model.fit(partial_x_train,\n",
    "partial_y_train,\n",
    "epochs=20,\n",
    "batch_size=512,\n",
    "validation_data=(x_val, y_val))"
   ]
  },
  {
   "cell_type": "code",
   "execution_count": 26,
   "metadata": {},
   "outputs": [],
   "source": [
    "history_dict = history.history"
   ]
  },
  {
   "cell_type": "code",
   "execution_count": 36,
   "metadata": {},
   "outputs": [],
   "source": [
    "import matplotlib.pyplot as plt\n",
    "history_dict = history.history\n",
    "loss_values = history_dict['loss']\n",
    "val_loss_values = history_dict['val_loss']\n",
    "epochs = range(1, len(history_dict['acc']) + 1)"
   ]
  },
  {
   "cell_type": "code",
   "execution_count": 37,
   "metadata": {},
   "outputs": [
    {
     "data": {
      "text/plain": [
       "range(1, 21)"
      ]
     },
     "execution_count": 37,
     "metadata": {},
     "output_type": "execute_result"
    }
   ],
   "source": [
    "epochs"
   ]
  },
  {
   "cell_type": "code",
   "execution_count": 38,
   "metadata": {},
   "outputs": [
    {
     "data": {
      "image/png": "[encoded data removed]",
      "text/plain": [
       "<Figure size 432x288 with 1 Axes>"
      ]
     },
     "metadata": {
      "needs_background": "light"
     },
     "output_type": "display_data"
    }
   ],
   "source": [
    "plt.plot(epochs, loss_values, 'bo', label='Training loss')\n",
    "plt.plot(epochs, val_loss_values, 'b', label='Validation loss')\n",
    "plt.title('Training and validation loss')\n",
    "plt.xlabel('Epochs')\n",
    "plt.ylabel('Loss')\n",
    "plt.legend()\n",
    "plt.show()"
   ]
  },
  {
   "cell_type": "code",
   "execution_count": 40,
   "metadata": {},
   "outputs": [
    {
     "data": {
      "image/png": "[encoded data removed]",
      "text/plain": [
       "<Figure size 432x288 with 1 Axes>"
      ]
     },
     "metadata": {
      "needs_background": "light"
     },
     "output_type": "display_data"
    }
   ],
   "source": [
    "plt.clf()\n",
    "acc_values = history_dict['acc']\n",
    "val_acc_values = history_dict['val_acc']\n",
    "plt.plot(epochs, acc_values, 'bo', label='Training acc')\n",
    "plt.plot(epochs, val_acc_values, 'b', label='Validation acc')\n",
    "plt.title('Training and validation accuracy')\n",
    "plt.xlabel('Epochs')\n",
    "plt.ylabel('Loss')\n",
    "plt.legend()\n",
    "plt.show()"
   ]
  },
  {
   "cell_type": "code",
   "execution_count": 46,
   "metadata": {},
   "outputs": [
    {
     "name": "stdout",
     "output_type": "stream",
     "text": [
      "Epoch 1/4\n",
      "25000/25000 [==============================] - 43s 2ms/step - loss: 0.4583 - acc: 0.8129\n",
      "Epoch 2/4\n",
      "25000/25000 [==============================] - 4s 158us/step - loss: 0.2630 - acc: 0.9090\n",
      "Epoch 3/4\n",
      "25000/25000 [==============================] - 4s 146us/step - loss: 0.2004 - acc: 0.9280\n",
      "Epoch 4/4\n",
      "25000/25000 [==============================] - 3s 140us/step - loss: 0.1691 - acc: 0.9384\n",
      "25000/25000 [==============================] - 22s 876us/step\n"
     ]
    }
   ],
   "source": [
    "model = models.Sequential()\n",
    "model.add(layers.Dense(16, activation='relu', input_shape=(10000,)))\n",
    "model.add(layers.Dense(16, activation='relu'))\n",
    "model.add(layers.Dense(1, activation='sigmoid'))\n",
    "model.compile(optimizer='rmsprop',\n",
    "loss='binary_crossentropy',\n",
    "metrics=['accuracy'])\n",
    "model.fit(x_train, y_train, epochs=4, batch_size=512)\n",
    "results = model.evaluate(x_test, y_test)"
   ]
  },
  {
   "cell_type": "code",
   "execution_count": 43,
   "metadata": {},
   "outputs": [
    {
     "name": "stdout",
     "output_type": "stream",
     "text": [
      "25000/25000 [==============================] - 22s 885us/step\n"
     ]
    }
   ],
   "source": [
    "results = model.evaluate(x_test, y_test)"
   ]
  },
  {
   "cell_type": "code",
   "execution_count": 47,
   "metadata": {},
   "outputs": [
    {
     "data": {
      "text/plain": [
       "[0.29643853224754335, 0.88312]"
      ]
     },
     "execution_count": 47,
     "metadata": {},
     "output_type": "execute_result"
    }
   ],
   "source": [
    "results"
   ]
  },
  {
   "cell_type": "code",
   "execution_count": 48,
   "metadata": {},
   "outputs": [
    {
     "data": {
      "text/plain": [
       "array([[0.20701051],\n",
       "       [0.99949116],\n",
       "       [0.93810844],\n",
       "       ...,\n",
       "       [0.12765008],\n",
       "       [0.09552789],\n",
       "       [0.6776905 ]], dtype=float32)"
      ]
     },
     "execution_count": 48,
     "metadata": {},
     "output_type": "execute_result"
    }
   ],
   "source": [
    "model.predict(x_test)"
   ]
  }
 ],
 "metadata": {
  "kernelspec": {
   "display_name": "Python 3",
   "language": "python",
   "name": "python3"
  },
  "language_info": {
   "codemirror_mode": {
    "name": "ipython",
    "version": 3
   },
   "file_extension": ".py",
   "mimetype": "text/x-python",
   "name": "python",
   "nbconvert_exporter": "python",
   "pygments_lexer": "ipython3",
   "version": "3.7.3"
  }
 },
 "nbformat": 4,
 "nbformat_minor": 2
}
